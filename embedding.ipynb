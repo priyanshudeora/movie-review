{
 "cells": [
  {
   "cell_type": "code",
   "execution_count": 1,
   "metadata": {},
   "outputs": [],
   "source": [
    "from tensorflow.keras.preprocessing.text import one_hot"
   ]
  },
  {
   "cell_type": "code",
   "execution_count": 2,
   "metadata": {},
   "outputs": [],
   "source": [
    "### sentences\n",
    "sent=[  'the glass of milk',\n",
    "     'the glass of juice',\n",
    "     'the cup of tea',\n",
    "    'I am a good boy',\n",
    "     'I am a good developer',\n",
    "     'understand the meaning of words',\n",
    "     'your videos are good',]"
   ]
  },
  {
   "cell_type": "code",
   "execution_count": 3,
   "metadata": {},
   "outputs": [
    {
     "data": {
      "text/plain": [
       "['the glass of milk',\n",
       " 'the glass of juice',\n",
       " 'the cup of tea',\n",
       " 'I am a good boy',\n",
       " 'I am a good developer',\n",
       " 'understand the meaning of words',\n",
       " 'your videos are good']"
      ]
     },
     "execution_count": 3,
     "metadata": {},
     "output_type": "execute_result"
    }
   ],
   "source": [
    "sent"
   ]
  },
  {
   "cell_type": "code",
   "execution_count": 4,
   "metadata": {},
   "outputs": [],
   "source": [
    "## Define the vocabulary size\n",
    "voc_size=10000"
   ]
  },
  {
   "cell_type": "code",
   "execution_count": 5,
   "metadata": {},
   "outputs": [
    {
     "data": {
      "text/plain": [
       "['the glass of milk',\n",
       " 'the glass of juice',\n",
       " 'the cup of tea',\n",
       " 'I am a good boy',\n",
       " 'I am a good developer',\n",
       " 'understand the meaning of words',\n",
       " 'your videos are good']"
      ]
     },
     "execution_count": 5,
     "metadata": {},
     "output_type": "execute_result"
    }
   ],
   "source": [
    "sent"
   ]
  },
  {
   "cell_type": "code",
   "execution_count": 6,
   "metadata": {},
   "outputs": [
    {
     "data": {
      "text/plain": [
       "[[7390, 4977, 9288, 8486],\n",
       " [7390, 4977, 9288, 4550],\n",
       " [7390, 8437, 9288, 1655],\n",
       " [6549, 8257, 217, 910, 6413],\n",
       " [6549, 8257, 217, 910, 7637],\n",
       " [4207, 7390, 4678, 9288, 5465],\n",
       " [2313, 19, 9615, 910]]"
      ]
     },
     "execution_count": 6,
     "metadata": {},
     "output_type": "execute_result"
    }
   ],
   "source": [
    "### One Hot Representation\n",
    "one_hot_repr=[one_hot(words,voc_size)for words in sent]\n",
    "one_hot_repr"
   ]
  },
  {
   "cell_type": "code",
   "execution_count": 7,
   "metadata": {},
   "outputs": [],
   "source": [
    "## word Embedding Representation\n",
    "\n",
    "from tensorflow.keras.layers import Embedding\n",
    "#from tensorflow.keras.processing.sequence import pad_sequences\n",
    "from tensorflow.keras.utils import pad_sequences\n",
    "from tensorflow.keras.models import Sequential"
   ]
  },
  {
   "cell_type": "code",
   "execution_count": 8,
   "metadata": {},
   "outputs": [],
   "source": [
    "import numpy as np"
   ]
  },
  {
   "cell_type": "code",
   "execution_count": 9,
   "metadata": {},
   "outputs": [
    {
     "name": "stdout",
     "output_type": "stream",
     "text": [
      "[[   0    0    0    0 7390 4977 9288 8486]\n",
      " [   0    0    0    0 7390 4977 9288 4550]\n",
      " [   0    0    0    0 7390 8437 9288 1655]\n",
      " [   0    0    0 6549 8257  217  910 6413]\n",
      " [   0    0    0 6549 8257  217  910 7637]\n",
      " [   0    0    0 4207 7390 4678 9288 5465]\n",
      " [   0    0    0    0 2313   19 9615  910]]\n"
     ]
    }
   ],
   "source": [
    "sent_length=8\n",
    "embedded_docs=pad_sequences(one_hot_repr,padding='pre',maxlen=sent_length)\n",
    "print(embedded_docs)"
   ]
  },
  {
   "cell_type": "code",
   "execution_count": 10,
   "metadata": {},
   "outputs": [],
   "source": [
    "## feature representation\n",
    "dim=10"
   ]
  },
  {
   "cell_type": "code",
   "execution_count": 11,
   "metadata": {},
   "outputs": [
    {
     "name": "stderr",
     "output_type": "stream",
     "text": [
      "c:\\Users\\lenovo\\Desktop\\project\\rnnclassification\\venv\\Lib\\site-packages\\keras\\src\\layers\\core\\embedding.py:90: UserWarning: Argument `input_length` is deprecated. Just remove it.\n",
      "  warnings.warn(\n"
     ]
    }
   ],
   "source": [
    "model=Sequential()\n",
    "model.add(Embedding(voc_size,dim,input_length=sent_length))\n",
    "model.compile('adam','mse')"
   ]
  },
  {
   "cell_type": "code",
   "execution_count": 12,
   "metadata": {},
   "outputs": [
    {
     "data": {
      "text/html": [
       "<pre style=\"white-space:pre;overflow-x:auto;line-height:normal;font-family:Menlo,'DejaVu Sans Mono',consolas,'Courier New',monospace\"><span style=\"font-weight: bold\">Model: \"sequential\"</span>\n",
       "</pre>\n"
      ],
      "text/plain": [
       "\u001b[1mModel: \"sequential\"\u001b[0m\n"
      ]
     },
     "metadata": {},
     "output_type": "display_data"
    },
    {
     "data": {
      "text/html": [
       "<pre style=\"white-space:pre;overflow-x:auto;line-height:normal;font-family:Menlo,'DejaVu Sans Mono',consolas,'Courier New',monospace\">┏━━━━━━━━━━━━━━━━━━━━━━━━━━━━━━━━━┳━━━━━━━━━━━━━━━━━━━━━━━━┳━━━━━━━━━━━━━━━┓\n",
       "┃<span style=\"font-weight: bold\"> Layer (type)                    </span>┃<span style=\"font-weight: bold\"> Output Shape           </span>┃<span style=\"font-weight: bold\">       Param # </span>┃\n",
       "┡━━━━━━━━━━━━━━━━━━━━━━━━━━━━━━━━━╇━━━━━━━━━━━━━━━━━━━━━━━━╇━━━━━━━━━━━━━━━┩\n",
       "│ embedding (<span style=\"color: #0087ff; text-decoration-color: #0087ff\">Embedding</span>)           │ ?                      │   <span style=\"color: #00af00; text-decoration-color: #00af00\">0</span> (unbuilt) │\n",
       "└─────────────────────────────────┴────────────────────────┴───────────────┘\n",
       "</pre>\n"
      ],
      "text/plain": [
       "┏━━━━━━━━━━━━━━━━━━━━━━━━━━━━━━━━━┳━━━━━━━━━━━━━━━━━━━━━━━━┳━━━━━━━━━━━━━━━┓\n",
       "┃\u001b[1m \u001b[0m\u001b[1mLayer (type)                   \u001b[0m\u001b[1m \u001b[0m┃\u001b[1m \u001b[0m\u001b[1mOutput Shape          \u001b[0m\u001b[1m \u001b[0m┃\u001b[1m \u001b[0m\u001b[1m      Param #\u001b[0m\u001b[1m \u001b[0m┃\n",
       "┡━━━━━━━━━━━━━━━━━━━━━━━━━━━━━━━━━╇━━━━━━━━━━━━━━━━━━━━━━━━╇━━━━━━━━━━━━━━━┩\n",
       "│ embedding (\u001b[38;5;33mEmbedding\u001b[0m)           │ ?                      │   \u001b[38;5;34m0\u001b[0m (unbuilt) │\n",
       "└─────────────────────────────────┴────────────────────────┴───────────────┘\n"
      ]
     },
     "metadata": {},
     "output_type": "display_data"
    },
    {
     "data": {
      "text/html": [
       "<pre style=\"white-space:pre;overflow-x:auto;line-height:normal;font-family:Menlo,'DejaVu Sans Mono',consolas,'Courier New',monospace\"><span style=\"font-weight: bold\"> Total params: </span><span style=\"color: #00af00; text-decoration-color: #00af00\">0</span> (0.00 B)\n",
       "</pre>\n"
      ],
      "text/plain": [
       "\u001b[1m Total params: \u001b[0m\u001b[38;5;34m0\u001b[0m (0.00 B)\n"
      ]
     },
     "metadata": {},
     "output_type": "display_data"
    },
    {
     "data": {
      "text/html": [
       "<pre style=\"white-space:pre;overflow-x:auto;line-height:normal;font-family:Menlo,'DejaVu Sans Mono',consolas,'Courier New',monospace\"><span style=\"font-weight: bold\"> Trainable params: </span><span style=\"color: #00af00; text-decoration-color: #00af00\">0</span> (0.00 B)\n",
       "</pre>\n"
      ],
      "text/plain": [
       "\u001b[1m Trainable params: \u001b[0m\u001b[38;5;34m0\u001b[0m (0.00 B)\n"
      ]
     },
     "metadata": {},
     "output_type": "display_data"
    },
    {
     "data": {
      "text/html": [
       "<pre style=\"white-space:pre;overflow-x:auto;line-height:normal;font-family:Menlo,'DejaVu Sans Mono',consolas,'Courier New',monospace\"><span style=\"font-weight: bold\"> Non-trainable params: </span><span style=\"color: #00af00; text-decoration-color: #00af00\">0</span> (0.00 B)\n",
       "</pre>\n"
      ],
      "text/plain": [
       "\u001b[1m Non-trainable params: \u001b[0m\u001b[38;5;34m0\u001b[0m (0.00 B)\n"
      ]
     },
     "metadata": {},
     "output_type": "display_data"
    }
   ],
   "source": [
    "model.summary()"
   ]
  },
  {
   "cell_type": "code",
   "execution_count": 13,
   "metadata": {},
   "outputs": [
    {
     "name": "stdout",
     "output_type": "stream",
     "text": [
      "\u001b[1m1/1\u001b[0m \u001b[32m━━━━━━━━━━━━━━━━━━━━\u001b[0m\u001b[37m\u001b[0m \u001b[1m0s\u001b[0m 263ms/step\n"
     ]
    },
    {
     "data": {
      "text/plain": [
       "array([[[-4.07784805e-02,  3.31301801e-02,  1.46454908e-02,\n",
       "          6.62273169e-03, -3.40148807e-02,  1.56197697e-03,\n",
       "         -9.03628767e-04,  4.76447083e-02, -1.97619088e-02,\n",
       "         -7.34914094e-04],\n",
       "        [-4.07784805e-02,  3.31301801e-02,  1.46454908e-02,\n",
       "          6.62273169e-03, -3.40148807e-02,  1.56197697e-03,\n",
       "         -9.03628767e-04,  4.76447083e-02, -1.97619088e-02,\n",
       "         -7.34914094e-04],\n",
       "        [-4.07784805e-02,  3.31301801e-02,  1.46454908e-02,\n",
       "          6.62273169e-03, -3.40148807e-02,  1.56197697e-03,\n",
       "         -9.03628767e-04,  4.76447083e-02, -1.97619088e-02,\n",
       "         -7.34914094e-04],\n",
       "        [-4.07784805e-02,  3.31301801e-02,  1.46454908e-02,\n",
       "          6.62273169e-03, -3.40148807e-02,  1.56197697e-03,\n",
       "         -9.03628767e-04,  4.76447083e-02, -1.97619088e-02,\n",
       "         -7.34914094e-04],\n",
       "        [ 3.26119326e-02, -2.92185191e-02, -2.65666842e-02,\n",
       "          1.64774545e-02,  1.72904171e-02,  4.90461849e-02,\n",
       "         -2.62638573e-02,  3.20252888e-02, -2.41192225e-02,\n",
       "          7.45271519e-03],\n",
       "        [-1.18491165e-02, -1.50281675e-02,  4.44672145e-02,\n",
       "         -2.51195319e-02, -4.89241257e-02, -2.77687907e-02,\n",
       "         -4.78392132e-02,  3.86017822e-02,  3.60696353e-02,\n",
       "         -3.08745746e-02],\n",
       "        [-1.82741061e-02,  1.88317336e-02, -1.01009831e-02,\n",
       "          1.52513124e-02, -3.84299532e-02, -4.39592376e-02,\n",
       "         -2.31212508e-02, -2.18213797e-02, -2.00409647e-02,\n",
       "          1.19131319e-02],\n",
       "        [ 9.37476009e-03,  2.12684982e-02, -2.38253959e-02,\n",
       "         -4.03598323e-02,  2.00853609e-02,  1.09824315e-02,\n",
       "         -2.45890860e-02, -8.32370669e-03,  1.22513622e-03,\n",
       "         -4.76906411e-02]],\n",
       "\n",
       "       [[-4.07784805e-02,  3.31301801e-02,  1.46454908e-02,\n",
       "          6.62273169e-03, -3.40148807e-02,  1.56197697e-03,\n",
       "         -9.03628767e-04,  4.76447083e-02, -1.97619088e-02,\n",
       "         -7.34914094e-04],\n",
       "        [-4.07784805e-02,  3.31301801e-02,  1.46454908e-02,\n",
       "          6.62273169e-03, -3.40148807e-02,  1.56197697e-03,\n",
       "         -9.03628767e-04,  4.76447083e-02, -1.97619088e-02,\n",
       "         -7.34914094e-04],\n",
       "        [-4.07784805e-02,  3.31301801e-02,  1.46454908e-02,\n",
       "          6.62273169e-03, -3.40148807e-02,  1.56197697e-03,\n",
       "         -9.03628767e-04,  4.76447083e-02, -1.97619088e-02,\n",
       "         -7.34914094e-04],\n",
       "        [-4.07784805e-02,  3.31301801e-02,  1.46454908e-02,\n",
       "          6.62273169e-03, -3.40148807e-02,  1.56197697e-03,\n",
       "         -9.03628767e-04,  4.76447083e-02, -1.97619088e-02,\n",
       "         -7.34914094e-04],\n",
       "        [ 3.26119326e-02, -2.92185191e-02, -2.65666842e-02,\n",
       "          1.64774545e-02,  1.72904171e-02,  4.90461849e-02,\n",
       "         -2.62638573e-02,  3.20252888e-02, -2.41192225e-02,\n",
       "          7.45271519e-03],\n",
       "        [-1.18491165e-02, -1.50281675e-02,  4.44672145e-02,\n",
       "         -2.51195319e-02, -4.89241257e-02, -2.77687907e-02,\n",
       "         -4.78392132e-02,  3.86017822e-02,  3.60696353e-02,\n",
       "         -3.08745746e-02],\n",
       "        [-1.82741061e-02,  1.88317336e-02, -1.01009831e-02,\n",
       "          1.52513124e-02, -3.84299532e-02, -4.39592376e-02,\n",
       "         -2.31212508e-02, -2.18213797e-02, -2.00409647e-02,\n",
       "          1.19131319e-02],\n",
       "        [-2.11456306e-02,  2.92602889e-02, -1.54180750e-02,\n",
       "         -2.55651958e-02, -3.95281687e-02,  3.57595198e-02,\n",
       "          1.08974688e-02,  3.50882448e-02, -4.23043035e-02,\n",
       "         -4.35039178e-02]],\n",
       "\n",
       "       [[-4.07784805e-02,  3.31301801e-02,  1.46454908e-02,\n",
       "          6.62273169e-03, -3.40148807e-02,  1.56197697e-03,\n",
       "         -9.03628767e-04,  4.76447083e-02, -1.97619088e-02,\n",
       "         -7.34914094e-04],\n",
       "        [-4.07784805e-02,  3.31301801e-02,  1.46454908e-02,\n",
       "          6.62273169e-03, -3.40148807e-02,  1.56197697e-03,\n",
       "         -9.03628767e-04,  4.76447083e-02, -1.97619088e-02,\n",
       "         -7.34914094e-04],\n",
       "        [-4.07784805e-02,  3.31301801e-02,  1.46454908e-02,\n",
       "          6.62273169e-03, -3.40148807e-02,  1.56197697e-03,\n",
       "         -9.03628767e-04,  4.76447083e-02, -1.97619088e-02,\n",
       "         -7.34914094e-04],\n",
       "        [-4.07784805e-02,  3.31301801e-02,  1.46454908e-02,\n",
       "          6.62273169e-03, -3.40148807e-02,  1.56197697e-03,\n",
       "         -9.03628767e-04,  4.76447083e-02, -1.97619088e-02,\n",
       "         -7.34914094e-04],\n",
       "        [ 3.26119326e-02, -2.92185191e-02, -2.65666842e-02,\n",
       "          1.64774545e-02,  1.72904171e-02,  4.90461849e-02,\n",
       "         -2.62638573e-02,  3.20252888e-02, -2.41192225e-02,\n",
       "          7.45271519e-03],\n",
       "        [-1.30483508e-02, -3.83116379e-02,  1.34304203e-02,\n",
       "         -1.90950036e-02,  4.03827094e-02, -1.86466202e-02,\n",
       "         -4.97920290e-02,  1.33255459e-02, -4.37881835e-02,\n",
       "         -1.51253827e-02],\n",
       "        [-1.82741061e-02,  1.88317336e-02, -1.01009831e-02,\n",
       "          1.52513124e-02, -3.84299532e-02, -4.39592376e-02,\n",
       "         -2.31212508e-02, -2.18213797e-02, -2.00409647e-02,\n",
       "          1.19131319e-02],\n",
       "        [-3.59735116e-02,  4.24307473e-02, -4.10457626e-02,\n",
       "          8.15358013e-03,  4.62039560e-03, -3.90977152e-02,\n",
       "         -1.34502426e-02,  1.36131532e-02,  2.01518573e-02,\n",
       "         -4.47768085e-02]],\n",
       "\n",
       "       [[-4.07784805e-02,  3.31301801e-02,  1.46454908e-02,\n",
       "          6.62273169e-03, -3.40148807e-02,  1.56197697e-03,\n",
       "         -9.03628767e-04,  4.76447083e-02, -1.97619088e-02,\n",
       "         -7.34914094e-04],\n",
       "        [-4.07784805e-02,  3.31301801e-02,  1.46454908e-02,\n",
       "          6.62273169e-03, -3.40148807e-02,  1.56197697e-03,\n",
       "         -9.03628767e-04,  4.76447083e-02, -1.97619088e-02,\n",
       "         -7.34914094e-04],\n",
       "        [-4.07784805e-02,  3.31301801e-02,  1.46454908e-02,\n",
       "          6.62273169e-03, -3.40148807e-02,  1.56197697e-03,\n",
       "         -9.03628767e-04,  4.76447083e-02, -1.97619088e-02,\n",
       "         -7.34914094e-04],\n",
       "        [ 2.81156786e-02,  4.07971069e-03, -2.98483502e-02,\n",
       "         -1.80990621e-03, -2.04818975e-02,  3.78074981e-02,\n",
       "          4.02119793e-02, -3.37288864e-02, -2.54144315e-02,\n",
       "          3.93046401e-02],\n",
       "        [ 3.49459089e-02,  2.27714889e-02, -6.10508770e-03,\n",
       "          3.00043821e-03, -3.27203162e-02, -6.60456344e-03,\n",
       "          7.37006590e-03, -1.56805739e-02, -2.09804066e-02,\n",
       "         -2.64683124e-02],\n",
       "        [ 3.78051512e-02,  2.32974775e-02, -3.73918638e-02,\n",
       "          4.48057093e-02, -8.15391541e-05,  4.95902039e-02,\n",
       "          2.77474560e-02,  4.83289100e-02,  2.63309516e-02,\n",
       "         -3.73439863e-03],\n",
       "        [ 3.38324942e-02, -1.12656131e-02, -2.75199059e-02,\n",
       "         -3.61865051e-02, -1.14560127e-02, -2.99024582e-03,\n",
       "         -1.81401148e-02, -4.97490168e-03,  3.01938094e-02,\n",
       "          2.40096785e-02],\n",
       "        [-2.45978963e-02, -4.79551926e-02,  3.27331461e-02,\n",
       "         -4.33860794e-02,  1.66516788e-02,  4.33173887e-02,\n",
       "         -8.28889757e-03,  2.47765668e-02,  2.09261216e-02,\n",
       "         -2.06390508e-02]],\n",
       "\n",
       "       [[-4.07784805e-02,  3.31301801e-02,  1.46454908e-02,\n",
       "          6.62273169e-03, -3.40148807e-02,  1.56197697e-03,\n",
       "         -9.03628767e-04,  4.76447083e-02, -1.97619088e-02,\n",
       "         -7.34914094e-04],\n",
       "        [-4.07784805e-02,  3.31301801e-02,  1.46454908e-02,\n",
       "          6.62273169e-03, -3.40148807e-02,  1.56197697e-03,\n",
       "         -9.03628767e-04,  4.76447083e-02, -1.97619088e-02,\n",
       "         -7.34914094e-04],\n",
       "        [-4.07784805e-02,  3.31301801e-02,  1.46454908e-02,\n",
       "          6.62273169e-03, -3.40148807e-02,  1.56197697e-03,\n",
       "         -9.03628767e-04,  4.76447083e-02, -1.97619088e-02,\n",
       "         -7.34914094e-04],\n",
       "        [ 2.81156786e-02,  4.07971069e-03, -2.98483502e-02,\n",
       "         -1.80990621e-03, -2.04818975e-02,  3.78074981e-02,\n",
       "          4.02119793e-02, -3.37288864e-02, -2.54144315e-02,\n",
       "          3.93046401e-02],\n",
       "        [ 3.49459089e-02,  2.27714889e-02, -6.10508770e-03,\n",
       "          3.00043821e-03, -3.27203162e-02, -6.60456344e-03,\n",
       "          7.37006590e-03, -1.56805739e-02, -2.09804066e-02,\n",
       "         -2.64683124e-02],\n",
       "        [ 3.78051512e-02,  2.32974775e-02, -3.73918638e-02,\n",
       "          4.48057093e-02, -8.15391541e-05,  4.95902039e-02,\n",
       "          2.77474560e-02,  4.83289100e-02,  2.63309516e-02,\n",
       "         -3.73439863e-03],\n",
       "        [ 3.38324942e-02, -1.12656131e-02, -2.75199059e-02,\n",
       "         -3.61865051e-02, -1.14560127e-02, -2.99024582e-03,\n",
       "         -1.81401148e-02, -4.97490168e-03,  3.01938094e-02,\n",
       "          2.40096785e-02],\n",
       "        [-1.93329453e-02, -2.86005978e-02, -3.40896472e-02,\n",
       "         -2.10006367e-02, -1.38329975e-02, -1.18472092e-02,\n",
       "         -1.89465526e-02,  4.83862050e-02, -4.53642607e-02,\n",
       "          7.52985477e-04]],\n",
       "\n",
       "       [[-4.07784805e-02,  3.31301801e-02,  1.46454908e-02,\n",
       "          6.62273169e-03, -3.40148807e-02,  1.56197697e-03,\n",
       "         -9.03628767e-04,  4.76447083e-02, -1.97619088e-02,\n",
       "         -7.34914094e-04],\n",
       "        [-4.07784805e-02,  3.31301801e-02,  1.46454908e-02,\n",
       "          6.62273169e-03, -3.40148807e-02,  1.56197697e-03,\n",
       "         -9.03628767e-04,  4.76447083e-02, -1.97619088e-02,\n",
       "         -7.34914094e-04],\n",
       "        [-4.07784805e-02,  3.31301801e-02,  1.46454908e-02,\n",
       "          6.62273169e-03, -3.40148807e-02,  1.56197697e-03,\n",
       "         -9.03628767e-04,  4.76447083e-02, -1.97619088e-02,\n",
       "         -7.34914094e-04],\n",
       "        [-1.24971941e-03, -3.34966779e-02,  5.20823151e-03,\n",
       "          2.98218243e-02,  4.14131954e-03,  4.01015393e-02,\n",
       "         -3.93670090e-02, -3.88963148e-03,  2.04496123e-02,\n",
       "          1.27200820e-02],\n",
       "        [ 3.26119326e-02, -2.92185191e-02, -2.65666842e-02,\n",
       "          1.64774545e-02,  1.72904171e-02,  4.90461849e-02,\n",
       "         -2.62638573e-02,  3.20252888e-02, -2.41192225e-02,\n",
       "          7.45271519e-03],\n",
       "        [-1.83903687e-02, -1.25888735e-03, -3.00662592e-03,\n",
       "          1.88906826e-02,  8.15051794e-03,  2.97642872e-03,\n",
       "          1.15415342e-02,  1.20579824e-02,  1.74183883e-02,\n",
       "         -3.21586505e-02],\n",
       "        [-1.82741061e-02,  1.88317336e-02, -1.01009831e-02,\n",
       "          1.52513124e-02, -3.84299532e-02, -4.39592376e-02,\n",
       "         -2.31212508e-02, -2.18213797e-02, -2.00409647e-02,\n",
       "          1.19131319e-02],\n",
       "        [-4.06861529e-02, -1.16402134e-02, -4.30840515e-02,\n",
       "          1.11037493e-02,  1.85391046e-02, -3.92032862e-02,\n",
       "          4.40665819e-02, -2.06905734e-02, -3.46680880e-02,\n",
       "          3.05062197e-02]],\n",
       "\n",
       "       [[-4.07784805e-02,  3.31301801e-02,  1.46454908e-02,\n",
       "          6.62273169e-03, -3.40148807e-02,  1.56197697e-03,\n",
       "         -9.03628767e-04,  4.76447083e-02, -1.97619088e-02,\n",
       "         -7.34914094e-04],\n",
       "        [-4.07784805e-02,  3.31301801e-02,  1.46454908e-02,\n",
       "          6.62273169e-03, -3.40148807e-02,  1.56197697e-03,\n",
       "         -9.03628767e-04,  4.76447083e-02, -1.97619088e-02,\n",
       "         -7.34914094e-04],\n",
       "        [-4.07784805e-02,  3.31301801e-02,  1.46454908e-02,\n",
       "          6.62273169e-03, -3.40148807e-02,  1.56197697e-03,\n",
       "         -9.03628767e-04,  4.76447083e-02, -1.97619088e-02,\n",
       "         -7.34914094e-04],\n",
       "        [-4.07784805e-02,  3.31301801e-02,  1.46454908e-02,\n",
       "          6.62273169e-03, -3.40148807e-02,  1.56197697e-03,\n",
       "         -9.03628767e-04,  4.76447083e-02, -1.97619088e-02,\n",
       "         -7.34914094e-04],\n",
       "        [-1.92001462e-02,  4.69533838e-02,  4.35522236e-02,\n",
       "         -3.86525281e-02,  4.94100787e-02,  5.68199903e-04,\n",
       "         -3.25526148e-02,  2.94169523e-02,  1.08768232e-02,\n",
       "          2.39028372e-02],\n",
       "        [ 3.81760262e-02, -2.24840399e-02,  5.76130301e-03,\n",
       "         -1.82446726e-02, -1.69584975e-02,  1.90865062e-02,\n",
       "         -4.66038585e-02, -2.21159812e-02,  2.61412375e-02,\n",
       "          1.41451247e-02],\n",
       "        [-4.37556580e-03, -4.16266210e-02,  2.81050839e-02,\n",
       "          4.81760539e-02, -3.91852483e-02,  4.72816713e-02,\n",
       "         -2.69557480e-02,  2.71880515e-02,  3.13202851e-02,\n",
       "         -2.88294200e-02],\n",
       "        [ 3.38324942e-02, -1.12656131e-02, -2.75199059e-02,\n",
       "         -3.61865051e-02, -1.14560127e-02, -2.99024582e-03,\n",
       "         -1.81401148e-02, -4.97490168e-03,  3.01938094e-02,\n",
       "          2.40096785e-02]]], dtype=float32)"
      ]
     },
     "execution_count": 13,
     "metadata": {},
     "output_type": "execute_result"
    }
   ],
   "source": [
    "model.predict(embedded_docs)"
   ]
  },
  {
   "cell_type": "code",
   "execution_count": 14,
   "metadata": {},
   "outputs": [
    {
     "data": {
      "text/plain": [
       "array([   0,    0,    0,    0, 7390, 4977, 9288, 8486])"
      ]
     },
     "execution_count": 14,
     "metadata": {},
     "output_type": "execute_result"
    }
   ],
   "source": [
    "embedded_docs[0]"
   ]
  },
  {
   "cell_type": "code",
   "execution_count": 15,
   "metadata": {},
   "outputs": [
    {
     "ename": "ValueError",
     "evalue": "Exception encountered when calling Sequential.call().\n\n\u001b[1mCannot take the length of shape with unknown rank.\u001b[0m\n\nArguments received by Sequential.call():\n  • inputs=tf.Tensor(shape=<unknown>, dtype=int32)\n  • training=False\n  • mask=None",
     "output_type": "error",
     "traceback": [
      "\u001b[31m---------------------------------------------------------------------------\u001b[39m",
      "\u001b[31mValueError\u001b[39m                                Traceback (most recent call last)",
      "\u001b[36mCell\u001b[39m\u001b[36m \u001b[39m\u001b[32mIn[15]\u001b[39m\u001b[32m, line 1\u001b[39m\n\u001b[32m----> \u001b[39m\u001b[32m1\u001b[39m \u001b[43mmodel\u001b[49m\u001b[43m.\u001b[49m\u001b[43mpredict\u001b[49m\u001b[43m(\u001b[49m\u001b[43membedded_docs\u001b[49m\u001b[43m[\u001b[49m\u001b[32;43m0\u001b[39;49m\u001b[43m]\u001b[49m\u001b[43m)\u001b[49m\n",
      "\u001b[36mFile \u001b[39m\u001b[32mc:\\Users\\lenovo\\Desktop\\project\\rnnclassification\\venv\\Lib\\site-packages\\keras\\src\\utils\\traceback_utils.py:122\u001b[39m, in \u001b[36mfilter_traceback.<locals>.error_handler\u001b[39m\u001b[34m(*args, **kwargs)\u001b[39m\n\u001b[32m    119\u001b[39m     filtered_tb = _process_traceback_frames(e.__traceback__)\n\u001b[32m    120\u001b[39m     \u001b[38;5;66;03m# To get the full stack trace, call:\u001b[39;00m\n\u001b[32m    121\u001b[39m     \u001b[38;5;66;03m# `keras.config.disable_traceback_filtering()`\u001b[39;00m\n\u001b[32m--> \u001b[39m\u001b[32m122\u001b[39m     \u001b[38;5;28;01mraise\u001b[39;00m e.with_traceback(filtered_tb) \u001b[38;5;28;01mfrom\u001b[39;00m\u001b[38;5;250m \u001b[39m\u001b[38;5;28;01mNone\u001b[39;00m\n\u001b[32m    123\u001b[39m \u001b[38;5;28;01mfinally\u001b[39;00m:\n\u001b[32m    124\u001b[39m     \u001b[38;5;28;01mdel\u001b[39;00m filtered_tb\n",
      "\u001b[36mFile \u001b[39m\u001b[32mc:\\Users\\lenovo\\Desktop\\project\\rnnclassification\\venv\\Lib\\site-packages\\keras\\src\\utils\\traceback_utils.py:122\u001b[39m, in \u001b[36mfilter_traceback.<locals>.error_handler\u001b[39m\u001b[34m(*args, **kwargs)\u001b[39m\n\u001b[32m    119\u001b[39m     filtered_tb = _process_traceback_frames(e.__traceback__)\n\u001b[32m    120\u001b[39m     \u001b[38;5;66;03m# To get the full stack trace, call:\u001b[39;00m\n\u001b[32m    121\u001b[39m     \u001b[38;5;66;03m# `keras.config.disable_traceback_filtering()`\u001b[39;00m\n\u001b[32m--> \u001b[39m\u001b[32m122\u001b[39m     \u001b[38;5;28;01mraise\u001b[39;00m e.with_traceback(filtered_tb) \u001b[38;5;28;01mfrom\u001b[39;00m\u001b[38;5;250m \u001b[39m\u001b[38;5;28;01mNone\u001b[39;00m\n\u001b[32m    123\u001b[39m \u001b[38;5;28;01mfinally\u001b[39;00m:\n\u001b[32m    124\u001b[39m     \u001b[38;5;28;01mdel\u001b[39;00m filtered_tb\n",
      "\u001b[31mValueError\u001b[39m: Exception encountered when calling Sequential.call().\n\n\u001b[1mCannot take the length of shape with unknown rank.\u001b[0m\n\nArguments received by Sequential.call():\n  • inputs=tf.Tensor(shape=<unknown>, dtype=int32)\n  • training=False\n  • mask=None"
     ]
    }
   ],
   "source": [
    "model.predict(embedded_docs[0])"
   ]
  },
  {
   "cell_type": "code",
   "execution_count": null,
   "metadata": {},
   "outputs": [],
   "source": []
  }
 ],
 "metadata": {
  "kernelspec": {
   "display_name": "Python 3",
   "language": "python",
   "name": "python3"
  },
  "language_info": {
   "codemirror_mode": {
    "name": "ipython",
    "version": 3
   },
   "file_extension": ".py",
   "mimetype": "text/x-python",
   "name": "python",
   "nbconvert_exporter": "python",
   "pygments_lexer": "ipython3",
   "version": "3.11.11"
  }
 },
 "nbformat": 4,
 "nbformat_minor": 2
}
