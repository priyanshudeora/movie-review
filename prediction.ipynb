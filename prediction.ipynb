{
 "cells": [
  {
   "cell_type": "code",
   "execution_count": 1,
   "metadata": {},
   "outputs": [],
   "source": [
    "# Step 1: Import Libraries and Load the Model\n",
    "import numpy as np\n",
    "import tensorflow as tf\n",
    "from tensorflow.keras.datasets import imdb\n",
    "from tensorflow.keras.preprocessing import sequence\n",
    "from tensorflow.keras.models import load_model"
   ]
  },
  {
   "cell_type": "code",
   "execution_count": 2,
   "metadata": {},
   "outputs": [],
   "source": [
    "\n",
    "# Load the IMDB dataset word index\n",
    "word_index = imdb.get_word_index()\n",
    "reverse_word_index = {value: key for key, value in word_index.items()}"
   ]
  },
  {
   "cell_type": "code",
   "execution_count": 3,
   "metadata": {},
   "outputs": [
    {
     "name": "stderr",
     "output_type": "stream",
     "text": [
      "WARNING:absl:Compiled the loaded model, but the compiled metrics have yet to be built. `model.compile_metrics` will be empty until you train or evaluate the model.\n"
     ]
    },
    {
     "data": {
      "text/html": [
       "<pre style=\"white-space:pre;overflow-x:auto;line-height:normal;font-family:Menlo,'DejaVu Sans Mono',consolas,'Courier New',monospace\"><span style=\"font-weight: bold\">Model: \"sequential\"</span>\n",
       "</pre>\n"
      ],
      "text/plain": [
       "\u001b[1mModel: \"sequential\"\u001b[0m\n"
      ]
     },
     "metadata": {},
     "output_type": "display_data"
    },
    {
     "data": {
      "text/html": [
       "<pre style=\"white-space:pre;overflow-x:auto;line-height:normal;font-family:Menlo,'DejaVu Sans Mono',consolas,'Courier New',monospace\">┏━━━━━━━━━━━━━━━━━━━━━━━━━━━━━━━━━┳━━━━━━━━━━━━━━━━━━━━━━━━┳━━━━━━━━━━━━━━━┓\n",
       "┃<span style=\"font-weight: bold\"> Layer (type)                    </span>┃<span style=\"font-weight: bold\"> Output Shape           </span>┃<span style=\"font-weight: bold\">       Param # </span>┃\n",
       "┡━━━━━━━━━━━━━━━━━━━━━━━━━━━━━━━━━╇━━━━━━━━━━━━━━━━━━━━━━━━╇━━━━━━━━━━━━━━━┩\n",
       "│ embedding (<span style=\"color: #0087ff; text-decoration-color: #0087ff\">Embedding</span>)           │ (<span style=\"color: #00af00; text-decoration-color: #00af00\">32</span>, <span style=\"color: #00af00; text-decoration-color: #00af00\">500</span>, <span style=\"color: #00af00; text-decoration-color: #00af00\">128</span>)         │     <span style=\"color: #00af00; text-decoration-color: #00af00\">1,280,000</span> │\n",
       "├─────────────────────────────────┼────────────────────────┼───────────────┤\n",
       "│ simple_rnn (<span style=\"color: #0087ff; text-decoration-color: #0087ff\">SimpleRNN</span>)          │ (<span style=\"color: #00af00; text-decoration-color: #00af00\">32</span>, <span style=\"color: #00af00; text-decoration-color: #00af00\">128</span>)              │        <span style=\"color: #00af00; text-decoration-color: #00af00\">32,896</span> │\n",
       "├─────────────────────────────────┼────────────────────────┼───────────────┤\n",
       "│ dense (<span style=\"color: #0087ff; text-decoration-color: #0087ff\">Dense</span>)                   │ (<span style=\"color: #00af00; text-decoration-color: #00af00\">32</span>, <span style=\"color: #00af00; text-decoration-color: #00af00\">1</span>)                │           <span style=\"color: #00af00; text-decoration-color: #00af00\">129</span> │\n",
       "└─────────────────────────────────┴────────────────────────┴───────────────┘\n",
       "</pre>\n"
      ],
      "text/plain": [
       "┏━━━━━━━━━━━━━━━━━━━━━━━━━━━━━━━━━┳━━━━━━━━━━━━━━━━━━━━━━━━┳━━━━━━━━━━━━━━━┓\n",
       "┃\u001b[1m \u001b[0m\u001b[1mLayer (type)                   \u001b[0m\u001b[1m \u001b[0m┃\u001b[1m \u001b[0m\u001b[1mOutput Shape          \u001b[0m\u001b[1m \u001b[0m┃\u001b[1m \u001b[0m\u001b[1m      Param #\u001b[0m\u001b[1m \u001b[0m┃\n",
       "┡━━━━━━━━━━━━━━━━━━━━━━━━━━━━━━━━━╇━━━━━━━━━━━━━━━━━━━━━━━━╇━━━━━━━━━━━━━━━┩\n",
       "│ embedding (\u001b[38;5;33mEmbedding\u001b[0m)           │ (\u001b[38;5;34m32\u001b[0m, \u001b[38;5;34m500\u001b[0m, \u001b[38;5;34m128\u001b[0m)         │     \u001b[38;5;34m1,280,000\u001b[0m │\n",
       "├─────────────────────────────────┼────────────────────────┼───────────────┤\n",
       "│ simple_rnn (\u001b[38;5;33mSimpleRNN\u001b[0m)          │ (\u001b[38;5;34m32\u001b[0m, \u001b[38;5;34m128\u001b[0m)              │        \u001b[38;5;34m32,896\u001b[0m │\n",
       "├─────────────────────────────────┼────────────────────────┼───────────────┤\n",
       "│ dense (\u001b[38;5;33mDense\u001b[0m)                   │ (\u001b[38;5;34m32\u001b[0m, \u001b[38;5;34m1\u001b[0m)                │           \u001b[38;5;34m129\u001b[0m │\n",
       "└─────────────────────────────────┴────────────────────────┴───────────────┘\n"
      ]
     },
     "metadata": {},
     "output_type": "display_data"
    },
    {
     "data": {
      "text/html": [
       "<pre style=\"white-space:pre;overflow-x:auto;line-height:normal;font-family:Menlo,'DejaVu Sans Mono',consolas,'Courier New',monospace\"><span style=\"font-weight: bold\"> Total params: </span><span style=\"color: #00af00; text-decoration-color: #00af00\">1,313,027</span> (5.01 MB)\n",
       "</pre>\n"
      ],
      "text/plain": [
       "\u001b[1m Total params: \u001b[0m\u001b[38;5;34m1,313,027\u001b[0m (5.01 MB)\n"
      ]
     },
     "metadata": {},
     "output_type": "display_data"
    },
    {
     "data": {
      "text/html": [
       "<pre style=\"white-space:pre;overflow-x:auto;line-height:normal;font-family:Menlo,'DejaVu Sans Mono',consolas,'Courier New',monospace\"><span style=\"font-weight: bold\"> Trainable params: </span><span style=\"color: #00af00; text-decoration-color: #00af00\">1,313,025</span> (5.01 MB)\n",
       "</pre>\n"
      ],
      "text/plain": [
       "\u001b[1m Trainable params: \u001b[0m\u001b[38;5;34m1,313,025\u001b[0m (5.01 MB)\n"
      ]
     },
     "metadata": {},
     "output_type": "display_data"
    },
    {
     "data": {
      "text/html": [
       "<pre style=\"white-space:pre;overflow-x:auto;line-height:normal;font-family:Menlo,'DejaVu Sans Mono',consolas,'Courier New',monospace\"><span style=\"font-weight: bold\"> Non-trainable params: </span><span style=\"color: #00af00; text-decoration-color: #00af00\">0</span> (0.00 B)\n",
       "</pre>\n"
      ],
      "text/plain": [
       "\u001b[1m Non-trainable params: \u001b[0m\u001b[38;5;34m0\u001b[0m (0.00 B)\n"
      ]
     },
     "metadata": {},
     "output_type": "display_data"
    },
    {
     "data": {
      "text/html": [
       "<pre style=\"white-space:pre;overflow-x:auto;line-height:normal;font-family:Menlo,'DejaVu Sans Mono',consolas,'Courier New',monospace\"><span style=\"font-weight: bold\"> Optimizer params: </span><span style=\"color: #00af00; text-decoration-color: #00af00\">2</span> (12.00 B)\n",
       "</pre>\n"
      ],
      "text/plain": [
       "\u001b[1m Optimizer params: \u001b[0m\u001b[38;5;34m2\u001b[0m (12.00 B)\n"
      ]
     },
     "metadata": {},
     "output_type": "display_data"
    }
   ],
   "source": [
    "# Load the pre-trained model with ReLU activation\n",
    "model = load_model('simple_rnn_imdb.h5')\n",
    "model.summary()"
   ]
  },
  {
   "cell_type": "code",
   "execution_count": 4,
   "metadata": {},
   "outputs": [
    {
     "data": {
      "text/plain": [
       "[array([[-0.21101056, -0.19854373,  0.1598654 , ...,  0.17981684,\n",
       "         -0.35114232,  0.35468018],\n",
       "        [-0.05826031, -0.05606032,  0.00546694, ..., -0.01130535,\n",
       "         -0.07105526,  0.06152801],\n",
       "        [-0.00945987, -0.05459962,  0.02061001, ..., -0.00256204,\n",
       "         -0.069325  ,  0.06827548],\n",
       "        ...,\n",
       "        [-0.10146684, -0.0321408 ,  0.03346901, ...,  0.03635017,\n",
       "          0.03188213, -0.00668673],\n",
       "        [ 0.0575713 ,  0.13092655, -0.05209756, ..., -0.0471208 ,\n",
       "          0.00521429, -0.03197799],\n",
       "        [-0.07420219, -0.0515597 ,  0.10613549, ...,  0.08235094,\n",
       "          0.1353205 , -0.06555365]], dtype=float32),\n",
       " array([[-0.12327286, -0.04978105, -0.1613224 , ..., -0.05833526,\n",
       "         -0.01293451,  0.02793106],\n",
       "        [ 0.00705993, -0.1546646 , -0.03144713, ...,  0.12512006,\n",
       "         -0.0291901 , -0.08872265],\n",
       "        [ 0.13262211, -0.06783209, -0.09793469, ...,  0.0467817 ,\n",
       "         -0.10094008, -0.05786251],\n",
       "        ...,\n",
       "        [ 0.08409199,  0.13225602,  0.06028741, ..., -0.07576326,\n",
       "         -0.08141135,  0.05906419],\n",
       "        [-0.06182123, -0.00241706,  0.04079796, ..., -0.05234553,\n",
       "         -0.09603709, -0.05182965],\n",
       "        [-0.16598786,  0.12042611,  0.12042046, ...,  0.02418623,\n",
       "         -0.0285988 , -0.17508493]], dtype=float32),\n",
       " array([[-0.02169118,  0.05204193, -0.00721468, ...,  0.03599209,\n",
       "          0.04458903,  0.00942166],\n",
       "        [-0.17195071, -0.01424919,  0.07678401, ..., -0.04060723,\n",
       "         -0.12257268,  0.11682627],\n",
       "        [-0.04001273,  0.03267078, -0.06112157, ..., -0.10333947,\n",
       "          0.01731554, -0.0953614 ],\n",
       "        ...,\n",
       "        [ 0.04394506, -0.08104654, -0.14071815, ...,  0.06014654,\n",
       "          0.2062501 , -0.11953297],\n",
       "        [-0.12068308,  0.01240078, -0.0609443 , ...,  0.04738807,\n",
       "          0.03836107,  0.07111678],\n",
       "        [-0.18315041,  0.13660316,  0.10029879, ..., -0.16104585,\n",
       "         -0.08432018,  0.06042121]], dtype=float32),\n",
       " array([-0.0209151 , -0.00673851, -0.02267172,  0.01836201,  0.0149451 ,\n",
       "         0.01052897, -0.01034961,  0.01150069, -0.01800874,  0.00321525,\n",
       "        -0.03169693, -0.02490179, -0.03077113,  0.02957786,  0.02077913,\n",
       "         0.01489015,  0.00918156, -0.00465438, -0.01779938,  0.01425683,\n",
       "         0.03178867, -0.03005813,  0.00484   , -0.01856386, -0.02973534,\n",
       "         0.02555133, -0.00945002, -0.00202577,  0.00148369, -0.00121423,\n",
       "        -0.00297015, -0.02858769, -0.00480116, -0.00632691,  0.01997663,\n",
       "        -0.00207543, -0.01493852,  0.00362508, -0.01679469,  0.01713046,\n",
       "         0.00676241,  0.0026613 ,  0.02708937,  0.00155159, -0.01511826,\n",
       "         0.00996736, -0.01411808, -0.01277482, -0.01302129, -0.00045177,\n",
       "        -0.01051996,  0.02512382,  0.00151539,  0.01192029, -0.03517673,\n",
       "        -0.00477192, -0.03164364, -0.02967694, -0.01807648,  0.01362011,\n",
       "         0.01139113, -0.02341809,  0.00862256, -0.0025079 , -0.00102341,\n",
       "         0.02580117, -0.0312122 , -0.00514091, -0.02858914, -0.01821221,\n",
       "         0.00645052, -0.00597928,  0.00768059, -0.00675441, -0.0163818 ,\n",
       "         0.02711255, -0.00344793, -0.0070947 ,  0.00077921, -0.00187194,\n",
       "        -0.03023026, -0.0132781 , -0.01118174, -0.00683828, -0.01239461,\n",
       "        -0.03452707, -0.0108409 , -0.01279536, -0.01582795, -0.00749639,\n",
       "         0.00718007, -0.0111561 , -0.0022183 , -0.00286409, -0.02103609,\n",
       "         0.02614919, -0.00675672, -0.0211805 ,  0.02974531,  0.01213066,\n",
       "        -0.01609255, -0.01326232, -0.01353714, -0.01855582,  0.02954471,\n",
       "        -0.01002467, -0.0100195 , -0.00547318, -0.00156871, -0.00653151,\n",
       "        -0.01966824,  0.00168103,  0.01948516,  0.00649225, -0.02236224,\n",
       "         0.02022132,  0.01131337, -0.02780465, -0.03181743, -0.02304143,\n",
       "         0.00434537, -0.02585792,  0.01635139, -0.02900496,  0.02480086,\n",
       "        -0.03283178, -0.0291454 ,  0.0115758 ], dtype=float32),\n",
       " array([[-1.05855644e-01],\n",
       "        [ 2.37479597e-01],\n",
       "        [-5.11940196e-02],\n",
       "        [-2.15036854e-01],\n",
       "        [-1.22904740e-01],\n",
       "        [-1.24106482e-01],\n",
       "        [ 2.07832411e-01],\n",
       "        [ 1.04164049e-01],\n",
       "        [-2.03305691e-01],\n",
       "        [-3.19169372e-01],\n",
       "        [ 2.33956166e-02],\n",
       "        [-7.26686344e-02],\n",
       "        [ 4.73264679e-02],\n",
       "        [-1.72879636e-01],\n",
       "        [-1.49143673e-02],\n",
       "        [-1.61380097e-01],\n",
       "        [-5.81016839e-01],\n",
       "        [-2.27941990e-01],\n",
       "        [ 2.03773439e-01],\n",
       "        [ 1.48885742e-01],\n",
       "        [-1.54099494e-01],\n",
       "        [-1.44279167e-01],\n",
       "        [-1.49206400e-01],\n",
       "        [-9.71348360e-02],\n",
       "        [-2.65832394e-01],\n",
       "        [ 1.69979651e-02],\n",
       "        [-1.99159175e-01],\n",
       "        [-3.24147120e-02],\n",
       "        [-1.01506431e-02],\n",
       "        [ 4.94694352e-01],\n",
       "        [ 1.50749266e-01],\n",
       "        [-8.20994191e-03],\n",
       "        [ 2.12551713e-01],\n",
       "        [-1.57944113e-01],\n",
       "        [ 1.51185125e-01],\n",
       "        [ 2.38888171e-02],\n",
       "        [-1.27952844e-01],\n",
       "        [ 8.24030414e-02],\n",
       "        [-1.08208016e-01],\n",
       "        [ 5.32558382e-01],\n",
       "        [-5.10731220e-01],\n",
       "        [ 4.86062020e-02],\n",
       "        [-2.57888846e-02],\n",
       "        [-1.29089952e-01],\n",
       "        [-8.97115022e-02],\n",
       "        [-5.11238337e-01],\n",
       "        [-7.98241422e-02],\n",
       "        [ 1.72803327e-01],\n",
       "        [-7.64474988e-01],\n",
       "        [-3.38319503e-02],\n",
       "        [-7.98489451e-02],\n",
       "        [ 3.46151173e-01],\n",
       "        [ 2.41105467e-01],\n",
       "        [-1.18022583e-01],\n",
       "        [-1.85406003e-02],\n",
       "        [ 6.25868142e-02],\n",
       "        [-1.09032184e-01],\n",
       "        [ 1.21087432e-01],\n",
       "        [-1.21351697e-01],\n",
       "        [ 2.45277405e-01],\n",
       "        [-1.35593250e-01],\n",
       "        [-4.95580584e-01],\n",
       "        [-1.92716464e-01],\n",
       "        [-1.14158198e-01],\n",
       "        [ 1.21953994e-01],\n",
       "        [-1.40200645e-01],\n",
       "        [ 2.08702698e-01],\n",
       "        [-2.36287147e-01],\n",
       "        [-3.74641977e-02],\n",
       "        [-3.06119114e-01],\n",
       "        [-5.70632406e-02],\n",
       "        [-1.46855963e-02],\n",
       "        [-2.69720703e-01],\n",
       "        [-2.88986444e-01],\n",
       "        [ 6.63849935e-02],\n",
       "        [ 3.35513830e-01],\n",
       "        [-8.20489973e-02],\n",
       "        [-2.04195559e-01],\n",
       "        [ 1.69228598e-01],\n",
       "        [-2.40122944e-01],\n",
       "        [-8.38979799e-03],\n",
       "        [ 5.64495362e-02],\n",
       "        [-3.30150127e-01],\n",
       "        [-2.26616159e-01],\n",
       "        [ 6.27182424e-02],\n",
       "        [-8.85222629e-02],\n",
       "        [-1.96254477e-01],\n",
       "        [ 1.11918621e-01],\n",
       "        [ 2.26277098e-01],\n",
       "        [ 1.60130680e-01],\n",
       "        [-2.01362282e-01],\n",
       "        [-1.24541968e-01],\n",
       "        [-2.14927003e-01],\n",
       "        [ 2.83745706e-01],\n",
       "        [-1.13160707e-01],\n",
       "        [ 1.86950833e-01],\n",
       "        [-7.34413741e-03],\n",
       "        [ 1.04718827e-01],\n",
       "        [ 2.60563821e-01],\n",
       "        [ 1.15927448e-02],\n",
       "        [-2.02483833e-01],\n",
       "        [-2.01676905e-01],\n",
       "        [-1.98400065e-01],\n",
       "        [ 2.37799194e-02],\n",
       "        [ 1.72352493e-01],\n",
       "        [-2.00290561e-01],\n",
       "        [-1.42102271e-01],\n",
       "        [ 1.92838252e-01],\n",
       "        [-1.77416772e-01],\n",
       "        [-1.83440089e-01],\n",
       "        [ 3.07527720e-03],\n",
       "        [-1.34002388e-01],\n",
       "        [-2.11554632e-01],\n",
       "        [-2.68192291e-01],\n",
       "        [-5.20964861e-02],\n",
       "        [ 2.24755928e-02],\n",
       "        [ 3.97930969e-04],\n",
       "        [ 1.11045986e-01],\n",
       "        [ 1.44207910e-01],\n",
       "        [-2.57720500e-01],\n",
       "        [-4.72176038e-02],\n",
       "        [-7.67938122e-02],\n",
       "        [-3.39965001e-02],\n",
       "        [-8.76411125e-02],\n",
       "        [ 2.22912550e-01],\n",
       "        [-1.70540005e-01],\n",
       "        [-9.95912105e-02],\n",
       "        [-1.36974037e-01]], dtype=float32),\n",
       " array([-0.8573486], dtype=float32)]"
      ]
     },
     "execution_count": 4,
     "metadata": {},
     "output_type": "execute_result"
    }
   ],
   "source": [
    "model.get_weights()"
   ]
  },
  {
   "cell_type": "code",
   "execution_count": 5,
   "metadata": {},
   "outputs": [],
   "source": [
    "# Step 2: Helper Functions\n",
    "# Function to decode reviews\n",
    "def decode_review(encoded_review):\n",
    "    return ' '.join([reverse_word_index.get(i - 3, '?') for i in encoded_review])\n",
    "\n",
    "# Function to preprocess user input\n",
    "def preprocess_text(text):\n",
    "    words = text.lower().split()\n",
    "    encoded_review = [word_index.get(word, 2) + 3 for word in words]\n",
    "    padded_review = sequence.pad_sequences([encoded_review], maxlen=500)\n",
    "    return padded_review"
   ]
  },
  {
   "cell_type": "code",
   "execution_count": 6,
   "metadata": {},
   "outputs": [],
   "source": [
    "### Prediction  function\n",
    "\n",
    "def predict_sentiment(review):\n",
    "    preprocessed_input=preprocess_text(review)\n",
    "\n",
    "    prediction=model.predict(preprocessed_input)\n",
    "\n",
    "    sentiment = 'Positive' if prediction[0][0] > 0.5 else 'Negative'\n",
    "    \n",
    "    return sentiment, prediction[0][0]\n",
    "\n"
   ]
  },
  {
   "cell_type": "code",
   "execution_count": 7,
   "metadata": {},
   "outputs": [
    {
     "name": "stdout",
     "output_type": "stream",
     "text": [
      "\u001b[1m1/1\u001b[0m \u001b[32m━━━━━━━━━━━━━━━━━━━━\u001b[0m\u001b[37m\u001b[0m \u001b[1m0s\u001b[0m 358ms/step\n",
      "Review: This movie was fantastic! The acting was great and the plot was thrilling.\n",
      "Sentiment: Positive\n",
      "Prediction Score: 0.8943136930465698\n"
     ]
    }
   ],
   "source": [
    "# Step 4: User Input and Prediction\n",
    "# Example review for prediction\n",
    "example_review = \"This movie was fantastic! The acting was great and the plot was thrilling.\"\n",
    "\n",
    "sentiment,score=predict_sentiment(example_review)\n",
    "\n",
    "print(f'Review: {example_review}')\n",
    "print(f'Sentiment: {sentiment}')\n",
    "print(f'Prediction Score: {score}')"
   ]
  },
  {
   "cell_type": "code",
   "execution_count": null,
   "metadata": {},
   "outputs": [],
   "source": []
  },
  {
   "cell_type": "code",
   "execution_count": null,
   "metadata": {},
   "outputs": [],
   "source": []
  },
  {
   "cell_type": "code",
   "execution_count": null,
   "metadata": {},
   "outputs": [],
   "source": []
  },
  {
   "cell_type": "code",
   "execution_count": null,
   "metadata": {},
   "outputs": [],
   "source": []
  }
 ],
 "metadata": {
  "kernelspec": {
   "display_name": "Python 3",
   "language": "python",
   "name": "python3"
  },
  "language_info": {
   "codemirror_mode": {
    "name": "ipython",
    "version": 3
   },
   "file_extension": ".py",
   "mimetype": "text/x-python",
   "name": "python",
   "nbconvert_exporter": "python",
   "pygments_lexer": "ipython3",
   "version": "3.11.11"
  }
 },
 "nbformat": 4,
 "nbformat_minor": 2
}
